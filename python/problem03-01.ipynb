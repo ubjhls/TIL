{
 "cells": [
  {
   "cell_type": "markdown",
   "metadata": {},
   "source": [
    "# 버거지수\n",
    "> 한 도시의 발전 수준은 `(버거킹의 개수 + 맥도날드의 개수 + KFC의 개수) / 롯데리아의 개수` 로 나타낼 수 있다고 한다.\n",
    ">\n",
    "> locationA 에 있는 딕셔너리를 인자로 받아 버거지수를 계산하는 함수를 만들고 호출하시오."
   ]
  },
  {
   "cell_type": "code",
   "execution_count": 15,
   "metadata": {},
   "outputs": [],
   "source": [
    "locationA = {\n",
    "    'king': 2,\n",
    "    'mc': 4,\n",
    "    'kfc': 1,\n",
    "    'ria': 3\n",
    "}\n",
    "\n",
    "# 아래에 코드를 작성하세요."
   ]
  },
  {
   "cell_type": "code",
   "execution_count": 67,
   "metadata": {},
   "outputs": [
    {
     "name": "stdout",
     "output_type": "stream",
     "text": [
      "2.3333333333333335\n"
     ]
    }
   ],
   "source": [
    "def burger(king,mc,kfc,ria):\n",
    "    a= (king+mc+kfc) /ria\n",
    "    return a\n",
    "print(burger(**locationA))"
   ]
  },
  {
   "cell_type": "code",
   "execution_count": 71,
   "metadata": {},
   "outputs": [],
   "source": [
    "def burger(king, mc, kfc, ria):\n",
    "    return (king +mc +kfc)/ria"
   ]
  },
  {
   "cell_type": "code",
   "execution_count": 72,
   "metadata": {},
   "outputs": [
    {
     "data": {
      "text/plain": [
       "2.3333333333333335"
      ]
     },
     "execution_count": 72,
     "metadata": {},
     "output_type": "execute_result"
    }
   ],
   "source": [
    "burger(**locationA)"
   ]
  },
  {
   "cell_type": "markdown",
   "metadata": {},
   "source": [
    "# 종합소득세 계산하기\n",
    "> A라는 나라에서 종합소득세는 과세표준 금액 구간에 따라 다른 세율이 적용됩니다.\n",
    "\n",
    "|과세표준액|세율|\n",
    "|-------|---|\n",
    "|1,200이하|6%|\n",
    "|1,200 ~ 4,600|15%|\n",
    "|4,600 ~ |35%|\n",
    "\n",
    "```\n",
    "즉, 1,300원을 벌었을 경우 1,200\\*0.06 + 100\\*0.15를 계산한 결과가 납부해야 하는 세액입니다.\n",
    "\n",
    "함수 tax를 만들고 납부해야하는 세금의 결과를 반환하는 함수를 만들어보세요.\n",
    "```"
   ]
  },
  {
   "cell_type": "code",
   "execution_count": 12,
   "metadata": {},
   "outputs": [
    {
     "data": {
      "text/plain": [
       "722.0"
      ]
     },
     "execution_count": 12,
     "metadata": {},
     "output_type": "execute_result"
    }
   ],
   "source": [
    "# 아래에 코드를 작성하세요\n",
    "def tax(a):\n",
    "    if a >= 4600:\n",
    "        a = 1200*0.06 + 3400*0.15 + (a-4600)*0.35\n",
    "    elif a > 1200:\n",
    "        a = 1200*0.06 + (4600-a)*.015\n",
    "    else:\n",
    "        a = a * 0.06\n",
    "    return a\n",
    "tax(5000)"
   ]
  },
  {
   "cell_type": "markdown",
   "metadata": {},
   "source": [
    "# 텔레그램 챗봇\n",
    "\n",
    "> 텔레그램 메신져를 이용하여 챗봇을 개발하려고한다.\n",
    ">\n",
    "> api를 사용하기 위해 공식문서를 찾아보니 `https://api.telegram.org/bot<token>/METHOD_NAME`와 같은 경로로 \n",
    ">\n",
    "> token과 사용할 method의 이름을 넣어서 요청으로 보내라고 한다.\n",
    ">\n",
    "> 사용자에게 토큰과 사용할 메소드 이름을 받아 url을 만들어주는 함수를 만들어보시오.\n",
    ">\n",
    "> 개발자가 발급받은 토큰은 길이가 41자 라는 규칙을 따른다. 사용자가 잘못된 토큰을 넣었다면 '403'을 반환하시오\n",
    "\n",
    "```\n",
    "예시)\n",
    "https://api.telegram.org/bot123456:ABC-DEF1234ghIkl-zyx57W2v1u123ew11/getMe\n",
    "```"
   ]
  },
  {
   "cell_type": "code",
   "execution_count": 23,
   "metadata": {
    "scrolled": false
   },
   "outputs": [
    {
     "ename": "NameError",
     "evalue": "name 'tele' is not defined",
     "output_type": "error",
     "traceback": [
      "\u001b[1;31m---------------------------------------------------------------------------\u001b[0m",
      "\u001b[1;31mNameError\u001b[0m                                 Traceback (most recent call last)",
      "\u001b[1;32m<ipython-input-23-e1ff7bf98343>\u001b[0m in \u001b[0;36m<module>\u001b[1;34m\u001b[0m\n\u001b[0;32m      1\u001b[0m \u001b[1;31m# 아래에 코드를 작성하세요\u001b[0m\u001b[1;33m\u001b[0m\u001b[1;33m\u001b[0m\u001b[1;33m\u001b[0m\u001b[0m\n\u001b[1;32m----> 2\u001b[1;33m \u001b[0mtele\u001b[0m\u001b[1;33m(\u001b[0m\u001b[1;34m'123123:afjio;wef'\u001b[0m\u001b[1;33m,\u001b[0m \u001b[1;34m'getMe'\u001b[0m\u001b[1;33m)\u001b[0m\u001b[1;33m\u001b[0m\u001b[1;33m\u001b[0m\u001b[0m\n\u001b[0m\u001b[0;32m      3\u001b[0m \u001b[0mtele\u001b[0m\u001b[1;33m(\u001b[0m\u001b[1;34m'123456:ABC-DEF1234ghIkl-zyx57W2v1u123ew11'\u001b[0m\u001b[1;33m,\u001b[0m \u001b[1;34m'getMe'\u001b[0m\u001b[1;33m)\u001b[0m\u001b[1;33m\u001b[0m\u001b[1;33m\u001b[0m\u001b[0m\n",
      "\u001b[1;31mNameError\u001b[0m: name 'tele' is not defined"
     ]
    }
   ],
   "source": [
    "# 아래에 코드를 작성하세요\n",
    "tele('123123:afjio;wef', 'getMe')\n",
    "tele('123456:ABC-DEF1234ghIkl-zyx57W2v1u123ew11', 'getMe')"
   ]
  },
  {
   "cell_type": "code",
   "execution_count": 37,
   "metadata": {},
   "outputs": [
    {
     "data": {
      "text/plain": [
       "'https://api.telegram.org/bot123456:ABC-DEF1234ghIkl-zyx57W2v1u123ew11getMe'"
      ]
     },
     "execution_count": 37,
     "metadata": {},
     "output_type": "execute_result"
    }
   ],
   "source": [
    "def tele(token, method):\n",
    "    base_url= 'https://api.telegram.org/bot'\n",
    "    url=f'{base_url}{token}{method}'\n",
    "    if len(token) != 41:\n",
    "        return 403\n",
    "    return url\n",
    "tele('123456:ABC-DEF1234ghIkl-zyx57W2v1u123ew11', 'getMe')"
   ]
  },
  {
   "cell_type": "markdown",
   "metadata": {},
   "source": [
    "# 솔로 천국\n",
    "> 리스트가 주어집니다. 리스트의 각 요소는 숫자 0부터 9까지로 이루어져 있습니다.\n",
    "> \n",
    "> 이때, 리스트에서 연속적으로 나타나는 숫자는 하나만 남기고 전부 제거하려고 합니다.\n",
    "> \n",
    "> 리스트에서 연속적으로 나타나는 숫자는 제거하고 남은 수들을 반환하는 lonely 함수를 작성해 주세요.\n",
    "> \n",
    "> 단, 제거된 후 남은 수들을 반환할 때는 리스트의 요소들의 순서를 유지해야 합니다.\n",
    "\n",
    "```\n",
    "예시)\n",
    "\n",
    "lonely([1, 1, 3, 3, 0, 1, 1]) #=> [1, 3, 0, 1]\n",
    "lonely([4,4,4,3,3]) #=> [4,3]\n",
    "```"
   ]
  },
  {
   "cell_type": "code",
   "execution_count": 2,
   "metadata": {},
   "outputs": [
    {
     "data": {
      "text/plain": [
       "[4, 3]"
      ]
     },
     "execution_count": 2,
     "metadata": {},
     "output_type": "execute_result"
    }
   ],
   "source": [
    "# 여기에 코드를 작성하세요\n",
    "def lonely(*arg):\n",
    "    result = []\n",
    "    tmp=-1\n",
    "    for num in arg:\n",
    "        if tmp != num:\n",
    "            result.append(num)\n",
    "            tmp = num\n",
    "    return result\n",
    "lonely(4,4,4,3,3)"
   ]
  },
  {
   "cell_type": "code",
   "execution_count": 6,
   "metadata": {},
   "outputs": [
    {
     "data": {
      "text/plain": [
       "[4, 3, 2, 4]"
      ]
     },
     "execution_count": 6,
     "metadata": {},
     "output_type": "execute_result"
    }
   ],
   "source": [
    "def lonely(*arg):\n",
    "    result=[]\n",
    "    tmp=-1\n",
    "    for num in arg:\n",
    "        if tmp != num:\n",
    "            result.append(num)\n",
    "            tmp=num\n",
    "    return result\n",
    "lonely(4,4,4,3,3,2,2,4)"
   ]
  },
  {
   "cell_type": "code",
   "execution_count": 1,
   "metadata": {},
   "outputs": [
    {
     "data": {
      "text/plain": [
       "[1, 2, 3, 4, 5]"
      ]
     },
     "execution_count": 1,
     "metadata": {},
     "output_type": "execute_result"
    }
   ],
   "source": [
    "def lonely(numbers):\n",
    "                                    #result 빈통\n",
    "    result = []                 #담아놓고 시작\n",
    "                                    #하나씩 확인하면서,\n",
    "    for idx, number in enumerate(numbers):\n",
    "        if idx==0 or result[-1] != number:\n",
    "            result.append(number)\n",
    "    return result\n",
    "\n",
    "                                        #만약에 result의 마지막원소와 지금 숫자가 동일하지 않으면 빈통에 넣자!\n",
    "                                    #result를 반환한다.\n",
    "lonely([1,2,3,3,4,4,5,])"
   ]
  },
  {
   "cell_type": "code",
   "execution_count": 7,
   "metadata": {},
   "outputs": [
    {
     "ename": "SyntaxError",
     "evalue": "unexpected EOF while parsing (<ipython-input-7-30d26b80e09f>, line 1)",
     "output_type": "error",
     "traceback": [
      "\u001b[1;36m  File \u001b[1;32m\"<ipython-input-7-30d26b80e09f>\"\u001b[1;36m, line \u001b[1;32m1\u001b[0m\n\u001b[1;33m    def lonely(numbers):\u001b[0m\n\u001b[1;37m                        ^\u001b[0m\n\u001b[1;31mSyntaxError\u001b[0m\u001b[1;31m:\u001b[0m unexpected EOF while parsing\n"
     ]
    }
   ],
   "source": [
    "def lonely(numbers):\n"
   ]
  },
  {
   "cell_type": "code",
   "execution_count": 10,
   "metadata": {},
   "outputs": [
    {
     "name": "stdout",
     "output_type": "stream",
     "text": [
      "[1, 3]\n"
     ]
    }
   ],
   "source": [
    "result=[1]\n",
    "result.append(3)\n",
    "print(result)"
   ]
  }
 ],
 "metadata": {
  "kernelspec": {
   "display_name": "Python 3",
   "language": "python",
   "name": "python3"
  },
  "language_info": {
   "codemirror_mode": {
    "name": "ipython",
    "version": 3
   },
   "file_extension": ".py",
   "mimetype": "text/x-python",
   "name": "python",
   "nbconvert_exporter": "python",
   "pygments_lexer": "ipython3",
   "version": "3.7.4"
  },
  "toc": {
   "base_numbering": 1,
   "nav_menu": {},
   "number_sections": true,
   "sideBar": true,
   "skip_h1_title": false,
   "title_cell": "Table of Contents",
   "title_sidebar": "Contents",
   "toc_cell": false,
   "toc_position": {},
   "toc_section_display": true,
   "toc_window_display": false
  }
 },
 "nbformat": 4,
 "nbformat_minor": 2
}
