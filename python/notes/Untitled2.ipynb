{
 "cells": [
  {
   "cell_type": "code",
   "execution_count": 1,
   "metadata": {},
   "outputs": [
    {
     "data": {
      "text/plain": [
       "4.000000000010914"
      ]
     },
     "execution_count": 1,
     "metadata": {},
     "output_type": "execute_result"
    }
   ],
   "source": [
    "# def my_sqrt(n):\n",
    "#     start = 1\n",
    "#     final = 2\n",
    "#     tmp = 0\n",
    "#     result=0\n",
    "#     while abs(result**2 - n) > 1e-10:\n",
    "#         tmp = (start + final) / 2\n",
    "#         if tmp**2 >= n:\n",
    "#             final = tmp\n",
    "#         else:\n",
    "#             start = tmp\n",
    "#         result = start\n",
    "#     return result\n",
    "# print(my_sqrt(2))\n",
    "\n",
    "def my_sqrt(n):\n",
    "    a,b = 1 , n\n",
    "    result = 1\n",
    "    while abs(result ** 2 - n) > 1e-10:\n",
    "        result = (a+b) / 2\n",
    "        if result**2 < n:\n",
    "            a = result\n",
    "        else:\n",
    "            b = result\n",
    "    return result\n",
    "my_sqrt(16)"
   ]
  },
  {
   "cell_type": "code",
   "execution_count": null,
   "metadata": {},
   "outputs": [],
   "source": []
  }
 ],
 "metadata": {
  "kernelspec": {
   "display_name": "Python 3",
   "language": "python",
   "name": "python3"
  },
  "language_info": {
   "codemirror_mode": {
    "name": "ipython",
    "version": 3
   },
   "file_extension": ".py",
   "mimetype": "text/x-python",
   "name": "python",
   "nbconvert_exporter": "python",
   "pygments_lexer": "ipython3",
   "version": "3.7.4"
  },
  "toc": {
   "base_numbering": 1,
   "nav_menu": {},
   "number_sections": true,
   "sideBar": true,
   "skip_h1_title": false,
   "title_cell": "Table of Contents",
   "title_sidebar": "Contents",
   "toc_cell": false,
   "toc_position": {},
   "toc_section_display": true,
   "toc_window_display": false
  }
 },
 "nbformat": 4,
 "nbformat_minor": 2
}
