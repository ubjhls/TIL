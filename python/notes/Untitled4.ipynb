{
 "cells": [
  {
   "cell_type": "code",
   "execution_count": 21,
   "metadata": {},
   "outputs": [],
   "source": [
    "import random\n",
    "\n",
    "class Pikachu:\n",
    "    \n",
    "    def __init__(self, name):\n",
    "        self.name = name\n",
    "        self.level = 5\n",
    "        self.hp = self.level * random.randint(15,20)\n",
    "        self.exp = 0\n",
    "        print(f'{self.name}의 HP가 {self.hp}로 설정되었습니다.')\n",
    "        \n",
    "    def bark(self):\n",
    "        print('pikachu')\n",
    "    \n",
    "    def body_attack(self,enemy):\n",
    "        print(f'{self.name}이 {enemy.name}을 몸통박치기 공격을 했다....!')\n",
    "        if random.randint(0, 1):\n",
    "            enemy.hp -= self.level*5\n",
    "            print(f'{enemy.name}의 체력이 {enemy.hp}가 되었다....!')\n",
    "        else:\n",
    "            print('공격에 실패했다')\n",
    "    \n",
    "    def __repr__(self):\n",
    "        return f'{self.name}: lv.{self.level} exp.{self.exp}/100'\n",
    "    \n",
    "    def thousond_volt(self,enemy): \n",
    "        enemy.hp -= self.level*7\n",
    "        return a.hp\n",
    "    \n",
    "    def ex_p(self, enemy):\n",
    "        if enemy.hp <= 0:\n",
    "            self.exp = enemy.level * 15\n",
    "            print('상대를 죽였다')\n",
    "\n",
    "        if self.exp >= 100:\n",
    "            self.level = self.level + 1\n",
    "            self.exp = 0\n",
    "            print('레벨이 올랐다')\n",
    "        \n",
    "    "
   ]
  },
  {
   "cell_type": "code",
   "execution_count": 7,
   "metadata": {},
   "outputs": [
    {
     "name": "stdout",
     "output_type": "stream",
     "text": [
      "피카츄1이 피카츄2을 몸통박치기 공격을 했다....!\n",
      "피카츄2의 체력이 55가 되었다....!\n"
     ]
    }
   ],
   "source": [
    "p1 =Pikachu('피카츄1')\n",
    "p2 =Pikachu('피카츄2')\n",
    "p1.body_attack(p2)"
   ]
  },
  {
   "cell_type": "code",
   "execution_count": 23,
   "metadata": {},
   "outputs": [
    {
     "name": "stdout",
     "output_type": "stream",
     "text": [
      "플레이어 1의 이름을 정해주세요:a\n",
      "플레이어 2의 이름을 정해주세요:b\n",
      "a의 HP가 90로 설정되었습니다.\n",
      "b의 HP가 100로 설정되었습니다.\n",
      "=======게임이 시작되었습니다=======\n",
      "a이 b을 몸통박치기 공격을 했다....!\n",
      "b의 체력이 75가 되었다....!\n"
     ]
    },
    {
     "ename": "AttributeError",
     "evalue": "'Pikachu' object has no attribute 'ex_p'",
     "output_type": "error",
     "traceback": [
      "\u001b[1;31m---------------------------------------------------------------------------\u001b[0m",
      "\u001b[1;31mAttributeError\u001b[0m                            Traceback (most recent call last)",
      "\u001b[1;32m<ipython-input-23-76bae95daa82>\u001b[0m in \u001b[0;36m<module>\u001b[1;34m\u001b[0m\n\u001b[0;32m      8\u001b[0m     \u001b[1;32mif\u001b[0m \u001b[0mturn\u001b[0m \u001b[1;33m%\u001b[0m \u001b[1;36m2\u001b[0m\u001b[1;33m:\u001b[0m\u001b[1;33m\u001b[0m\u001b[1;33m\u001b[0m\u001b[0m\n\u001b[0;32m      9\u001b[0m         \u001b[0mp1\u001b[0m\u001b[1;33m.\u001b[0m\u001b[0mbody_attack\u001b[0m\u001b[1;33m(\u001b[0m\u001b[0mp2\u001b[0m\u001b[1;33m)\u001b[0m\u001b[1;33m\u001b[0m\u001b[1;33m\u001b[0m\u001b[0m\n\u001b[1;32m---> 10\u001b[1;33m         \u001b[0mp1\u001b[0m\u001b[1;33m.\u001b[0m\u001b[0mex_p\u001b[0m\u001b[1;33m(\u001b[0m\u001b[0mp2\u001b[0m\u001b[1;33m)\u001b[0m\u001b[1;33m\u001b[0m\u001b[1;33m\u001b[0m\u001b[0m\n\u001b[0m\u001b[0;32m     11\u001b[0m         \u001b[0mprint\u001b[0m\u001b[1;33m(\u001b[0m\u001b[0mp1\u001b[0m\u001b[1;33m)\u001b[0m\u001b[1;33m\u001b[0m\u001b[1;33m\u001b[0m\u001b[0m\n\u001b[0;32m     12\u001b[0m         \u001b[0mprint\u001b[0m\u001b[1;33m(\u001b[0m\u001b[0mp2\u001b[0m\u001b[1;33m)\u001b[0m\u001b[1;33m\u001b[0m\u001b[1;33m\u001b[0m\u001b[0m\n",
      "\u001b[1;31mAttributeError\u001b[0m: 'Pikachu' object has no attribute 'ex_p'"
     ]
    }
   ],
   "source": [
    "p1_name = input('플레이어 1의 이름을 정해주세요:')\n",
    "p2_name = input('플레이어 2의 이름을 정해주세요:')\n",
    "p1 = Pikachu(p1_name)\n",
    "p2 = Pikachu(p2_name)\n",
    "turn = 1\n",
    "while True:\n",
    "    print('=======게임이 시작되었습니다=======')\n",
    "    if turn % 2:\n",
    "        p1.body_attack(p2)\n",
    "        p1.ex_p(p2)\n",
    "        print(p1)\n",
    "        print(p2)\n",
    "    else:\n",
    "        p2.body_attack(p1)\n",
    "        p2.ex_p(p1)\n",
    "        print(p1)\n",
    "        print(p2)\n",
    "    if p1.hp < 0 or p2.hp < 0:\n",
    "        break\n",
    "    turn += 1"
   ]
  }
 ],
 "metadata": {
  "kernelspec": {
   "display_name": "Python 3",
   "language": "python",
   "name": "python3"
  },
  "language_info": {
   "codemirror_mode": {
    "name": "ipython",
    "version": 3
   },
   "file_extension": ".py",
   "mimetype": "text/x-python",
   "name": "python",
   "nbconvert_exporter": "python",
   "pygments_lexer": "ipython3",
   "version": "3.7.4"
  },
  "toc": {
   "base_numbering": 1,
   "nav_menu": {},
   "number_sections": true,
   "sideBar": true,
   "skip_h1_title": false,
   "title_cell": "Table of Contents",
   "title_sidebar": "Contents",
   "toc_cell": false,
   "toc_position": {},
   "toc_section_display": true,
   "toc_window_display": false
  }
 },
 "nbformat": 4,
 "nbformat_minor": 2
}
