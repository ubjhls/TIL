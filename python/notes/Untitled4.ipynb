{
 "cells": [
  {
   "cell_type": "code",
   "execution_count": 21,
   "metadata": {},
   "outputs": [],
   "source": [
    "import random\n",
    "\n",
    "class Pikachu:\n",
    "    \n",
    "    def __init__(self, name):\n",
    "        self.name = name\n",
    "        self.level = 5\n",
    "        self.hp = self.level * random.randint(15,20)\n",
    "        self.exp = 0\n",
    "        print(f'{self.name}의 HP가 {self.hp}로 설정되었습니다.')\n",
    "        \n",
    "    def bark(self):\n",
    "        print('pikachu')\n",
    "    \n",
    "    def body_attack(self,enemy):\n",
    "        print(f'{self.name}이 {enemy.name}을 몸통박치기 공격을 했다....!')\n",
    "        if random.randint(0, 1):\n",
    "            enemy.hp -= self.level*5\n",
    "            print(f'{enemy.name}의 체력이 {enemy.hp}가 되었다....!')\n",
    "        else:\n",
    "            print('공격에 실패했다')\n",
    "    \n",
    "    def __repr__(self):\n",
    "        return f'{self.name}: lv.{self.level} exp.{self.exp}/100'\n",
    "    \n",
    "    def thousond_volt(self,enemy): \n",
    "        enemy.hp -= self.level*7\n",
    "        return a.hp\n",
    "    \n",
    "    def ex_p(self, enemy):\n",
    "        if enemy.hp <= 0:\n",
    "            self.exp = enemy.level * 15\n",
    "            print('상대를 죽였다')\n",
    "\n",
    "        if self.exp >= 100:\n",
    "            self.level = self.level + 1\n",
    "            self.exp = 0\n",
    "            print('레벨이 올랐다')\n",
    "        \n",
    "    "
   ]
  },
  {
   "cell_type": "code",
   "execution_count": 7,
   "metadata": {},
   "outputs": [
    {
     "name": "stdout",
     "output_type": "stream",
     "text": [
      "피카츄1이 피카츄2을 몸통박치기 공격을 했다....!\n",
      "피카츄2의 체력이 55가 되었다....!\n"
     ]
    }
   ],
   "source": [
    "p1 =Pikachu('피카츄1')\n",
    "p2 =Pikachu('피카츄2')\n",
    "p1.body_attack(p2)"
   ]
  },
  {
   "cell_type": "code",
   "execution_count": 1,
   "metadata": {},
   "outputs": [
    {
     "name": "stdout",
     "output_type": "stream",
     "text": [
      "플레이어 1의 이름을 정해주세요:123\n",
      "플레이어 2의 이름을 정해주세요:123\n"
     ]
    },
    {
     "ename": "NameError",
     "evalue": "name 'Pikachu' is not defined",
     "output_type": "error",
     "traceback": [
      "\u001b[1;31m---------------------------------------------------------------------------\u001b[0m",
      "\u001b[1;31mNameError\u001b[0m                                 Traceback (most recent call last)",
      "\u001b[1;32m<ipython-input-1-76bae95daa82>\u001b[0m in \u001b[0;36m<module>\u001b[1;34m\u001b[0m\n\u001b[0;32m      1\u001b[0m \u001b[0mp1_name\u001b[0m \u001b[1;33m=\u001b[0m \u001b[0minput\u001b[0m\u001b[1;33m(\u001b[0m\u001b[1;34m'플레이어 1의 이름을 정해주세요:'\u001b[0m\u001b[1;33m)\u001b[0m\u001b[1;33m\u001b[0m\u001b[1;33m\u001b[0m\u001b[0m\n\u001b[0;32m      2\u001b[0m \u001b[0mp2_name\u001b[0m \u001b[1;33m=\u001b[0m \u001b[0minput\u001b[0m\u001b[1;33m(\u001b[0m\u001b[1;34m'플레이어 2의 이름을 정해주세요:'\u001b[0m\u001b[1;33m)\u001b[0m\u001b[1;33m\u001b[0m\u001b[1;33m\u001b[0m\u001b[0m\n\u001b[1;32m----> 3\u001b[1;33m \u001b[0mp1\u001b[0m \u001b[1;33m=\u001b[0m \u001b[0mPikachu\u001b[0m\u001b[1;33m(\u001b[0m\u001b[0mp1_name\u001b[0m\u001b[1;33m)\u001b[0m\u001b[1;33m\u001b[0m\u001b[1;33m\u001b[0m\u001b[0m\n\u001b[0m\u001b[0;32m      4\u001b[0m \u001b[0mp2\u001b[0m \u001b[1;33m=\u001b[0m \u001b[0mPikachu\u001b[0m\u001b[1;33m(\u001b[0m\u001b[0mp2_name\u001b[0m\u001b[1;33m)\u001b[0m\u001b[1;33m\u001b[0m\u001b[1;33m\u001b[0m\u001b[0m\n\u001b[0;32m      5\u001b[0m \u001b[0mturn\u001b[0m \u001b[1;33m=\u001b[0m \u001b[1;36m1\u001b[0m\u001b[1;33m\u001b[0m\u001b[1;33m\u001b[0m\u001b[0m\n",
      "\u001b[1;31mNameError\u001b[0m: name 'Pikachu' is not defined"
     ]
    }
   ],
   "source": [
    "p1_name = input('플레이어 1의 이름을 정해주세요:')\n",
    "p2_name = input('플레이어 2의 이름을 정해주세요:')\n",
    "p1 = Pikachu(p1_name)\n",
    "p2 = Pikachu(p2_name)\n",
    "turn = 1\n",
    "while True:\n",
    "    print('=======게임이 시작되었습니다=======')\n",
    "    if turn % 2:\n",
    "        p1.body_attack(p2)\n",
    "        p1.ex_p(p2)\n",
    "        print(p1)\n",
    "        print(p2)\n",
    "    else:\n",
    "        p2.body_attack(p1)\n",
    "        p2.ex_p(p1)\n",
    "        print(p1)\n",
    "        print(p2)\n",
    "    if p1.hp < 0 or p2.hp < 0:\n",
    "        break\n",
    "    turn += 1"
   ]
  },
  {
   "cell_type": "code",
   "execution_count": 1,
   "metadata": {},
   "outputs": [
    {
     "ename": "UndefinedValueError",
     "evalue": "NAVER_CLIENT_ID not found. Declare it as envvar or define a default value.",
     "output_type": "error",
     "traceback": [
      "\u001b[1;31m---------------------------------------------------------------------------\u001b[0m",
      "\u001b[1;31mUndefinedValueError\u001b[0m                       Traceback (most recent call last)",
      "\u001b[1;32m<ipython-input-1-59e459848de1>\u001b[0m in \u001b[0;36m<module>\u001b[1;34m\u001b[0m\n\u001b[0;32m      8\u001b[0m \u001b[0mrdr\u001b[0m \u001b[1;33m=\u001b[0m \u001b[0mcsv\u001b[0m\u001b[1;33m.\u001b[0m\u001b[0mreader\u001b[0m\u001b[1;33m(\u001b[0m\u001b[0mf\u001b[0m\u001b[1;33m)\u001b[0m\u001b[1;33m\u001b[0m\u001b[1;33m\u001b[0m\u001b[0m\n\u001b[0;32m      9\u001b[0m \u001b[1;32mfor\u001b[0m \u001b[0mline\u001b[0m \u001b[1;32min\u001b[0m \u001b[0mrdr\u001b[0m\u001b[1;33m:\u001b[0m\u001b[1;33m\u001b[0m\u001b[1;33m\u001b[0m\u001b[0m\n\u001b[1;32m---> 10\u001b[1;33m     \u001b[0mclient_id\u001b[0m \u001b[1;33m=\u001b[0m \u001b[0mconfig\u001b[0m\u001b[1;33m(\u001b[0m\u001b[1;34m'NAVER_CLIENT_ID'\u001b[0m\u001b[1;33m)\u001b[0m\u001b[1;33m\u001b[0m\u001b[1;33m\u001b[0m\u001b[0m\n\u001b[0m\u001b[0;32m     11\u001b[0m     \u001b[0mclient_secret\u001b[0m \u001b[1;33m=\u001b[0m \u001b[0mconfig\u001b[0m\u001b[1;33m(\u001b[0m\u001b[1;34m'NAVER_CLIENT_SECRET'\u001b[0m\u001b[1;33m)\u001b[0m\u001b[1;33m\u001b[0m\u001b[1;33m\u001b[0m\u001b[0m\n\u001b[0;32m     12\u001b[0m \u001b[1;33m\u001b[0m\u001b[0m\n",
      "\u001b[1;32mc:\\users\\student\\appdata\\local\\programs\\python\\python37\\lib\\site-packages\\decouple.py\u001b[0m in \u001b[0;36m__call__\u001b[1;34m(self, *args, **kwargs)\u001b[0m\n\u001b[0;32m    195\u001b[0m             \u001b[0mself\u001b[0m\u001b[1;33m.\u001b[0m\u001b[0m_load\u001b[0m\u001b[1;33m(\u001b[0m\u001b[0mself\u001b[0m\u001b[1;33m.\u001b[0m\u001b[0msearch_path\u001b[0m \u001b[1;32mor\u001b[0m \u001b[0mself\u001b[0m\u001b[1;33m.\u001b[0m\u001b[0m_caller_path\u001b[0m\u001b[1;33m(\u001b[0m\u001b[1;33m)\u001b[0m\u001b[1;33m)\u001b[0m\u001b[1;33m\u001b[0m\u001b[1;33m\u001b[0m\u001b[0m\n\u001b[0;32m    196\u001b[0m \u001b[1;33m\u001b[0m\u001b[0m\n\u001b[1;32m--> 197\u001b[1;33m         \u001b[1;32mreturn\u001b[0m \u001b[0mself\u001b[0m\u001b[1;33m.\u001b[0m\u001b[0mconfig\u001b[0m\u001b[1;33m(\u001b[0m\u001b[1;33m*\u001b[0m\u001b[0margs\u001b[0m\u001b[1;33m,\u001b[0m \u001b[1;33m**\u001b[0m\u001b[0mkwargs\u001b[0m\u001b[1;33m)\u001b[0m\u001b[1;33m\u001b[0m\u001b[1;33m\u001b[0m\u001b[0m\n\u001b[0m\u001b[0;32m    198\u001b[0m \u001b[1;33m\u001b[0m\u001b[0m\n\u001b[0;32m    199\u001b[0m \u001b[1;33m\u001b[0m\u001b[0m\n",
      "\u001b[1;32mc:\\users\\student\\appdata\\local\\programs\\python\\python37\\lib\\site-packages\\decouple.py\u001b[0m in \u001b[0;36m__call__\u001b[1;34m(self, *args, **kwargs)\u001b[0m\n\u001b[0;32m     83\u001b[0m         \u001b[0mConvenient\u001b[0m \u001b[0mshortcut\u001b[0m \u001b[0mto\u001b[0m \u001b[0mget\u001b[0m\u001b[1;33m.\u001b[0m\u001b[1;33m\u001b[0m\u001b[1;33m\u001b[0m\u001b[0m\n\u001b[0;32m     84\u001b[0m         \"\"\"\n\u001b[1;32m---> 85\u001b[1;33m         \u001b[1;32mreturn\u001b[0m \u001b[0mself\u001b[0m\u001b[1;33m.\u001b[0m\u001b[0mget\u001b[0m\u001b[1;33m(\u001b[0m\u001b[1;33m*\u001b[0m\u001b[0margs\u001b[0m\u001b[1;33m,\u001b[0m \u001b[1;33m**\u001b[0m\u001b[0mkwargs\u001b[0m\u001b[1;33m)\u001b[0m\u001b[1;33m\u001b[0m\u001b[1;33m\u001b[0m\u001b[0m\n\u001b[0m\u001b[0;32m     86\u001b[0m \u001b[1;33m\u001b[0m\u001b[0m\n\u001b[0;32m     87\u001b[0m \u001b[1;33m\u001b[0m\u001b[0m\n",
      "\u001b[1;32mc:\\users\\student\\appdata\\local\\programs\\python\\python37\\lib\\site-packages\\decouple.py\u001b[0m in \u001b[0;36mget\u001b[1;34m(self, option, default, cast)\u001b[0m\n\u001b[0;32m     68\u001b[0m         \u001b[1;32melse\u001b[0m\u001b[1;33m:\u001b[0m\u001b[1;33m\u001b[0m\u001b[1;33m\u001b[0m\u001b[0m\n\u001b[0;32m     69\u001b[0m             \u001b[1;32mif\u001b[0m \u001b[0misinstance\u001b[0m\u001b[1;33m(\u001b[0m\u001b[0mdefault\u001b[0m\u001b[1;33m,\u001b[0m \u001b[0mUndefined\u001b[0m\u001b[1;33m)\u001b[0m\u001b[1;33m:\u001b[0m\u001b[1;33m\u001b[0m\u001b[1;33m\u001b[0m\u001b[0m\n\u001b[1;32m---> 70\u001b[1;33m                 \u001b[1;32mraise\u001b[0m \u001b[0mUndefinedValueError\u001b[0m\u001b[1;33m(\u001b[0m\u001b[1;34m'{} not found. Declare it as envvar or define a default value.'\u001b[0m\u001b[1;33m.\u001b[0m\u001b[0mformat\u001b[0m\u001b[1;33m(\u001b[0m\u001b[0moption\u001b[0m\u001b[1;33m)\u001b[0m\u001b[1;33m)\u001b[0m\u001b[1;33m\u001b[0m\u001b[1;33m\u001b[0m\u001b[0m\n\u001b[0m\u001b[0;32m     71\u001b[0m \u001b[1;33m\u001b[0m\u001b[0m\n\u001b[0;32m     72\u001b[0m             \u001b[0mvalue\u001b[0m \u001b[1;33m=\u001b[0m \u001b[0mdefault\u001b[0m\u001b[1;33m\u001b[0m\u001b[1;33m\u001b[0m\u001b[0m\n",
      "\u001b[1;31mUndefinedValueError\u001b[0m: NAVER_CLIENT_ID not found. Declare it as envvar or define a default value."
     ]
    }
   ],
   "source": [
    "import csv                          #영진위 대표코드 하이퍼텍스트link, 영화썸네일의 이미지url, 유저평점\n",
    "import requests\n",
    "from decouple import config\n",
    "import pprint\n",
    "\n",
    "result =[]\n",
    "f = open('movie.csv', 'r', encoding='utf-8')\n",
    "rdr = csv.reader(f)\n",
    "for line in rdr:\n",
    "    client_id = config('NAVER_CLIENT_ID')\n",
    "    client_secret = config('NAVER_CLIENT_SECRET')\n",
    "\n",
    "#헤더설정\n",
    "    headers = {\n",
    "    'X-Naver-Client-Id' : client_id,\n",
    "    'X-Naver-Client-Secret' : client_secret\n",
    "}\n",
    "    \n",
    "#요청\n",
    "    api_url = 'https://openapi.naver.com/v1/search/movie.json'\n",
    "    query = '자전차왕 엄복동'\n",
    "\n",
    "#응답\n",
    "    response = requests.get(f'{api_url}?query={query}', headers=headers).json()\n",
    "    print(response)\n"
   ]
  },
  {
   "cell_type": "code",
   "execution_count": 7,
   "metadata": {},
   "outputs": [
    {
     "name": "stdout",
     "output_type": "stream",
     "text": [
      "3\n",
      "10\n",
      "#1 ['-']\n",
      "50\n",
      "#2 ['-']\n",
      "20\n",
      "#3 ['-']\n"
     ]
    }
   ],
   "source": [
    "def calc(num):\n",
    "    result=[]\n",
    "    for i in range(len(num)):\n",
    "        \n",
    "testcase = int(input())\n",
    "\n",
    "for j in range(testcase):\n",
    "    a = list(map(str, input().split()))\n",
    "    print(f'#{j+1} {calc(a)}')"
   ]
  },
  {
   "cell_type": "code",
   "execution_count": 3,
   "metadata": {},
   "outputs": [
    {
     "data": {
      "text/plain": [
       "'22345'"
      ]
     },
     "execution_count": 3,
     "metadata": {},
     "output_type": "execute_result"
    }
   ],
   "source": [
    "a='12345'\n",
    "a.replace('1','2',1)"
   ]
  }
 ],
 "metadata": {
  "kernelspec": {
   "display_name": "Python 3",
   "language": "python",
   "name": "python3"
  },
  "language_info": {
   "codemirror_mode": {
    "name": "ipython",
    "version": 3
   },
   "file_extension": ".py",
   "mimetype": "text/x-python",
   "name": "python",
   "nbconvert_exporter": "python",
   "pygments_lexer": "ipython3",
   "version": "3.7.4"
  },
  "toc": {
   "base_numbering": 1,
   "nav_menu": {},
   "number_sections": true,
   "sideBar": true,
   "skip_h1_title": false,
   "title_cell": "Table of Contents",
   "title_sidebar": "Contents",
   "toc_cell": false,
   "toc_position": {},
   "toc_section_display": true,
   "toc_window_display": false
  }
 },
 "nbformat": 4,
 "nbformat_minor": 2
}
